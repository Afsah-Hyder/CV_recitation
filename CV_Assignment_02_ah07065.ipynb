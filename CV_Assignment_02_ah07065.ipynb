{
  "nbformat": 4,
  "nbformat_minor": 0,
  "metadata": {
    "colab": {
      "provenance": [],
      "authorship_tag": "ABX9TyNDHKXn0O0usvdMfAx8qj5w",
      "include_colab_link": true
    },
    "kernelspec": {
      "name": "python3",
      "display_name": "Python 3"
    },
    "language_info": {
      "name": "python"
    }
  },
  "cells": [
    {
      "cell_type": "markdown",
      "metadata": {
        "id": "view-in-github",
        "colab_type": "text"
      },
      "source": [
        "<a href=\"https://colab.research.google.com/github/Afsah-Hyder/CV_recitation/blob/main/CV_Assignment_02_ah07065.ipynb\" target=\"_parent\"><img src=\"https://colab.research.google.com/assets/colab-badge.svg\" alt=\"Open In Colab\"/></a>"
      ]
    },
    {
      "cell_type": "markdown",
      "source": [
        "\n",
        "# Computer Vision Assigment 02\n",
        "## Name: Afsah Hyder\n",
        "## ID: ah07065"
      ],
      "metadata": {
        "id": "B_9gb49t5kz7"
      }
    },
    {
      "cell_type": "code",
      "source": [],
      "metadata": {
        "id": "sdmd6QTZ50zQ"
      },
      "execution_count": null,
      "outputs": []
    },
    {
      "cell_type": "markdown",
      "source": [
        "**Question 02** In this question, you will have to read up a bit on the different types of GANS that are found:\n",
        "Style transfer GAN, CGANS, CycleGAN, SRGANS. Only reading the abstract and introduction\n",
        "of these papers will equip you to solve these questions, reading them fully is up to you."
      ],
      "metadata": {
        "id": "CUT6EPZu6Bb2"
      }
    }
  ]
}