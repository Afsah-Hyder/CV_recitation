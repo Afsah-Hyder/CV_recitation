{
  "nbformat": 4,
  "nbformat_minor": 0,
  "metadata": {
    "colab": {
      "provenance": [],
      "authorship_tag": "ABX9TyO3vf1wTnn893Nsg9UCpLpA",
      "include_colab_link": true
    },
    "kernelspec": {
      "name": "python3",
      "display_name": "Python 3"
    },
    "language_info": {
      "name": "python"
    }
  },
  "cells": [
    {
      "cell_type": "markdown",
      "metadata": {
        "id": "view-in-github",
        "colab_type": "text"
      },
      "source": [
        "<a href=\"https://colab.research.google.com/github/Afsah-Hyder/Computer-Vision-Course/blob/main/CV_Assignment_02_ah07065.ipynb\" target=\"_parent\"><img src=\"https://colab.research.google.com/assets/colab-badge.svg\" alt=\"Open In Colab\"/></a>"
      ]
    },
    {
      "cell_type": "markdown",
      "source": [
        "\n",
        "# Computer Vision Assigment 02\n",
        "## Name: Afsah Hyder\n",
        "## ID: ah07065"
      ],
      "metadata": {
        "id": "B_9gb49t5kz7"
      }
    },
    {
      "cell_type": "code",
      "source": [],
      "metadata": {
        "id": "sdmd6QTZ50zQ"
      },
      "execution_count": null,
      "outputs": []
    },
    {
      "cell_type": "markdown",
      "source": [
        "**Question 02** In this question, you will have to read up a bit on the different types of GANS that are found:\n",
        "Style transfer GAN, CGANS, CycleGAN, SRGANS. Only reading the abstract and introduction\n",
        "of these papers will equip you to solve these questions, reading them fully is up to you. Then, go through the given situations and suggest the suitable GAN along with a short but\n",
        "suitable explanation:"
      ],
      "metadata": {
        "id": "CUT6EPZu6Bb2"
      }
    },
    {
      "cell_type": "markdown",
      "source": [
        "\n",
        "\n",
        "---\n",
        "\n",
        "\n",
        "a. A researcher gave a student the job to perform some preprocessing techniques on an image dataset. The student, while playing around with that data, applies a sufficiently large median blurring kernel to the images, but deletes the original files. These new images were padded correctly as to retain the original size of the images. Which GAN is best suited to revive the original HD images and why? [10]\n",
        "\n",
        "Super-Resolution Generative Adversarial Networks (SRGANs) are the most suitable architecture for restoring the missing detail in the blurred HD images. Unlike general-purpose GANs, SRGANs are specifically designed for super-resolution tasks. Their strength lies in a combined loss function that incorporates both an adversarial loss and a content loss. The adversarial loss trains the network to generate images that appear realistic to a discriminator network, mimicking natural high-resolution photos. The content loss, however, ensures the generated image retains the essential details and features present in the blurred version. This targeted approach makes SRGANs well-suited for recovering the lost information in the corrupted HD images."
      ],
      "metadata": {
        "id": "wQAwKUYY9LEM"
      }
    },
    {
      "cell_type": "markdown",
      "source": [
        "\n",
        "\n",
        "---\n",
        "\n",
        "\n",
        "b. Interns at a computer vision company are tasked with adding different skin textures to\n",
        "images of pandas and regular bears. If presented with a picture of a regular bear, the\n",
        "skin should be changed to match that of a panda. They do not have paired images of\n",
        "pandas and bears that they can use as direct mappings of each other. They have a set\n",
        "of images of pandas, and a different set of images of bears. Which GAN is best suited to\n",
        "achieve this image-to-image translation task and why? [10]\n",
        "\n",
        "CycleGAN is ideal for this unpaired image-to-image translation task. Separate panda and bear image sets train two generators: one to create panda-like skin on bears and another for bear-like skin on pandas. The cycle consistency loss enforces that translating a bear to panda-like skin and back to \"bear\" should yield an image close to the original bear. This cyclical constraint ensures realistic skin texture swapping on new images, even without paired training data."
      ],
      "metadata": {
        "id": "pWmesD14FTv2"
      }
    },
    {
      "cell_type": "markdown",
      "source": [
        "\n",
        "\n",
        "---\n",
        "\n",
        "\n",
        "c. A daughter wants to give her Van Gogh-fanatic mother a present. So, she decides to\n",
        "turna set of family photos to a set that looks as if it's been painted by Van Gogh. Which\n",
        "GAN's best suited to achieve this task and how would she train her model (using what\n",
        "datasets, etc.)? [10]\n",
        "\n",
        "Style Transfer GAN can create the painted photos with a Van Gogh artistic style. It achieves this artistic mastery through two key mechanisms: \"style vectors\" that define the artistic essence, and a \"progressive training\" approach where the network gradually learns to generate high-resolution images. A technique called \"adaptive instance normalization\" empowers StyleGAN to adapt the learned style to various image content.\n",
        "\n",
        "\n"
      ],
      "metadata": {
        "id": "1LAykQo2OW4j"
      }
    }
  ]
}