{
  "nbformat": 4,
  "nbformat_minor": 0,
  "metadata": {
    "colab": {
      "provenance": [],
      "authorship_tag": "ABX9TyMZWCX20CBxpwirfJvZESoV",
      "include_colab_link": true
    },
    "kernelspec": {
      "name": "python3",
      "display_name": "Python 3"
    },
    "language_info": {
      "name": "python"
    }
  },
  "cells": [
    {
      "cell_type": "markdown",
      "metadata": {
        "id": "view-in-github",
        "colab_type": "text"
      },
      "source": [
        "<a href=\"https://colab.research.google.com/github/Afsah-Hyder/Computer-Vision-Course/blob/main/CV_Assignment_02_ah07065.ipynb\" target=\"_parent\"><img src=\"https://colab.research.google.com/assets/colab-badge.svg\" alt=\"Open In Colab\"/></a>"
      ]
    },
    {
      "cell_type": "markdown",
      "source": [
        "\n",
        "# Computer Vision Assigment 02\n",
        "## Name: Afsah Hyder\n",
        "## ID: ah07065"
      ],
      "metadata": {
        "id": "B_9gb49t5kz7"
      }
    },
    {
      "cell_type": "code",
      "source": [],
      "metadata": {
        "id": "sdmd6QTZ50zQ"
      },
      "execution_count": null,
      "outputs": []
    },
    {
      "cell_type": "markdown",
      "source": [
        "**Question 02** In this question, you will have to read up a bit on the different types of GANS that are found:\n",
        "Style transfer GAN, CGANS, CycleGAN, SRGANS. Only reading the abstract and introduction\n",
        "of these papers will equip you to solve these questions, reading them fully is up to you. Then, go through the given situations and suggest the suitable GAN along with a short but\n",
        "suitable explanation:"
      ],
      "metadata": {
        "id": "CUT6EPZu6Bb2"
      }
    },
    {
      "cell_type": "markdown",
      "source": [
        "\n",
        "\n",
        "---\n",
        "\n",
        "\n",
        "a. A researcher gave a student the job to perform some preprocessing techniques on an image dataset. The student, while playing around with that data, applies a sufficiently large median blurring kernel to the images, but deletes the original files. These new images were padded correctly as to retain the original size of the images. Which GAN is best suited to revive the original HD images and why? [10]\n",
        "\n",
        "Super-Resolution GANs seem to be most suitable for this.Super-resolution GAN applies a deep network in combination with an adversary network to produce higher resolution images. As shown above, SRGAN is more appealing to a human with more details compared with the similar design without GAN (SRResNet)."
      ],
      "metadata": {
        "id": "wQAwKUYY9LEM"
      }
    },
    {
      "cell_type": "markdown",
      "source": [
        "\n",
        "\n",
        "---\n",
        "\n",
        "\n",
        "b. Interns at a computer vision company are tasked with adding different skin textures to\n",
        "images of pandas and regular bears. If presented with a picture of a regular bear, the\n",
        "skin should be changed to match that of a panda. They do not have paired images of\n",
        "pandas and bears that they can use as direct mappings of each other. They have a set\n",
        "of images of pandas, and a different set of images of bears. Which GAN is best suited to\n",
        "achieve this image-to-image translation task and why? [10]\n",
        "\n",
        "CycleGAN"
      ],
      "metadata": {
        "id": "pWmesD14FTv2"
      }
    },
    {
      "cell_type": "markdown",
      "source": [
        "\n",
        "\n",
        "---\n",
        "\n",
        "\n",
        "c. A daughter wants to give her Van Gogh-fanatic mother a present. So, she decides to\n",
        "turna set of family photos to a set that looks as if it's been painted by Van Gogh. Which\n",
        "GAN's best suited to achieve this task and how would she train her model (using what\n",
        "datasets, etc.)? [10]\n",
        "\n",
        "Style Transfer GAN\n",
        "\n",
        "\n",
        "\n"
      ],
      "metadata": {
        "id": "1LAykQo2OW4j"
      }
    }
  ]
}