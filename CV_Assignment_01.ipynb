{
  "cells": [
    {
      "cell_type": "markdown",
      "metadata": {
        "id": "view-in-github",
        "colab_type": "text"
      },
      "source": [
        "<a href=\"https://colab.research.google.com/github/Afsah-Hyder/CV_recitation/blob/main/CV_Assignment_01.ipynb\" target=\"_parent\"><img src=\"https://colab.research.google.com/assets/colab-badge.svg\" alt=\"Open In Colab\"/></a>"
      ]
    },
    {
      "cell_type": "code",
      "execution_count": null,
      "metadata": {
        "id": "pBLGufOFk_mC",
        "colab": {
          "base_uri": "https://localhost:8080/"
        },
        "outputId": "324ea364-dca7-4590-865e-6002b5b4503d"
      },
      "outputs": [
        {
          "output_type": "stream",
          "name": "stdout",
          "text": [
            "Downloading data from https://www.cs.toronto.edu/~kriz/cifar-10-python.tar.gz\n",
            "170498071/170498071 [==============================] - 13s 0us/step\n"
          ]
        }
      ],
      "source": [
        "from tensorflow.keras.datasets import cifar10\n",
        "from sklearn.model_selection import train_test_split\n",
        "\n",
        "# Load the dataset\n",
        "(x_train, y_train), (x_test, y_test) = cifar10.load_data()\n",
        "\n",
        "#For Q3.\n",
        "# Specify the proportion of data for the validation set (e.g., 20%)\n",
        "test_size = 0.2\n",
        "\n",
        "# Split the data\n",
        "X_train, X_val, Y_train, Y_val = train_test_split(\n",
        "    x_train, y_train, test_size=test_size, random_state=42\n",
        ")"
      ]
    },
    {
      "cell_type": "markdown",
      "metadata": {
        "id": "SHvkDYfS2tiJ"
      },
      "source": [
        "**CIFAR-10 Dataset:** The dataset contains 60,000 32x32 color (rgb) images categorized into 10 classes. It is a well-known benchmark dataset utilized for training and assessing machine learning algorithms, especially those designed for image recognition. Out of these 60,000 images, 50k are reserved for training and the remaining 10k for test. The 10 classes are: airplanes, automobiles, birds, cats, deer, dogs, frogs, horses, ships, and trucks. Each class contains 6k images.\n",
        "\n",
        "\n",
        "**Preprocessing steps:** In the preprocessing phase of image data, various steps are undertaken to optimize the image for analysis. These steps encompass noise reduction, contrast enhancement, image resizing, color correction, segmentation, feature extraction, among others. Noise reduction methodologies focus on eliminating unwanted elements, such as variations in lighting, while preserving the image's crucial characteristics. Contrast enhancement procedures are employed to heighten the distinction between different features within the image. Image resizing and color correction techniques play roles in adjusting the image's dimensions and color balance, respectively. Segmentation approaches divide the image into distinct regions based on its content, and feature extraction methods identify and extract important features. This preprocessing is vital in image analysis, contributing to improved data quality and reduced visual clutter."
      ]
    },
    {
      "cell_type": "markdown",
      "metadata": {
        "id": "rKPbiX7h-RpQ"
      },
      "source": [
        "**Q2.**"
      ]
    },
    {
      "cell_type": "code",
      "execution_count": null,
      "metadata": {
        "colab": {
          "base_uri": "https://localhost:8080/"
        },
        "id": "HLLmcr-o4Ezu",
        "outputId": "b38c806d-0afb-462b-a2ca-2ae41371ef2a"
      },
      "outputs": [
        {
          "name": "stdout",
          "output_type": "stream",
          "text": [
            "72.0 , \n",
            "189.0 , \n",
            "237.0 , \n",
            "243.0 , \n",
            "126.0 , \n",
            "\n",
            "\n",
            "123.0 , \n",
            "276.0 , \n",
            "378.0 , \n",
            "417.0 , \n",
            "264.0 , \n",
            "\n",
            "\n",
            "117.0 , \n",
            "255.0 , \n",
            "378.0 , \n",
            "432.0 , \n",
            "294.0 , \n",
            "\n",
            "\n",
            "81.0 , \n",
            "156.0 , \n",
            "234.0 , \n",
            "309.0 , \n",
            "234.0 , \n",
            "\n",
            "\n",
            "30.0 , \n",
            "69.0 , \n",
            "93.0 , \n",
            "135.0 , \n",
            "96.0 , \n",
            "\n",
            "\n"
          ]
        }
      ],
      "source": [
        "import numpy as np\n",
        "def calc(input,filter,padds,padding):\n",
        "  if padding:\n",
        "    input=np.pad(input,(padds, padds), constant_values=0)  # diff options available if different type of padding required along diff axis\n",
        "  output=np.zeros((len(input)-2*padds,len(input)-2*padds))\n",
        "  for i in range(padds,len(input)-padds):\n",
        "    for j in range(padds,len(input[i])-padds):\n",
        "      sum=input[i][j]*filter[padds][padds]\n",
        "      for k in range(1,padds+1):\n",
        "        sum+= input[i-k][j-k]*filter[padds-k][padds-k]+ input[i-k][j]*filter[padds-k][padds]+ input[i][j-k]*filter[padds][padds-k]+ input[i+k][j-k]*filter[padds+k][padds-k]+ input[i+k][j]*filter[padds+k][padds]+ input[i][j+k]*filter[padds][padds+k]+ input[i-k][j+k]*filter[padds-k][padds+k]+ input[i+k][j+k]*filter[padds+k][padds+k]\n",
        "      output[i-padds][j-padds]=sum\n",
        "  return output\n",
        "\n",
        "\n",
        "def filt(input,filter,padding,normalization):\n",
        "  if normalization: filter=filter/np.sum(filter)\n",
        "  filter_num=len(filter)\n",
        "  padds=int((filter_num-1)/2)    #pad width\n",
        "\n",
        "  if input.ndim==3:\n",
        "    output_0=calc(input[0],filter,padds,padding)\n",
        "    output_1=calc(input[1],filter,padds,padding)\n",
        "    output_2=calc(input[2],filter,padds,padding)\n",
        "\n",
        "    for i in range(0,len(output_0)):\n",
        "      for j in range(0,len(output_0)):\n",
        "        output_0[i][j]=output_0[i][j]+output_1[i][j]+output_2[i][j]\n",
        "    return output_0\n",
        "  elif input.ndim==2:\n",
        "    output=calc(input,filter,padds,padding)\n",
        "    return output\n",
        "\n",
        "\n",
        "\n",
        "def printer(output):\n",
        "  for i in range(len(output)):\n",
        "    for j in range(len(output[i])):\n",
        "      print(output[i][j], \", \")\n",
        "    print(\"\\n\")\n",
        "\n",
        "filter=np.ones((3,3))\n",
        "image3=np.array([[[3,4,12,2,5],[3,14,27,20,15],[3,14,12,21,25],[2,3,7,8,9],[2,3,6,4,11]],[[3,4,12,2,5],[3,14,27,20,15],[3,14,12,21,25],[2,3,7,8,9],[2,3,6,4,11]],[[3,4,12,2,5],[3,14,27,20,15],[3,14,12,21,25],[2,3,7,8,9],[2,3,6,4,11]]]) #3D\n",
        "image2=np.array([[3,4,12,2,5],[3,14,27,20,15],[3,14,12,21,25],[2,3,7,8,9],[2,3,6,4,11]])   #2D\n",
        "\n",
        "output=filt(image3,filter,1,0)\n",
        "printer(output)\n",
        "\n",
        "\n"
      ]
    },
    {
      "cell_type": "markdown",
      "metadata": {
        "id": "V9faX_Iz-Vot"
      },
      "source": [
        "**Q3.** Extract HOG features from the CIFAR-10 dataset, and train a Linear SVM using those features. You are\n",
        "expected to reach around 45% accuracy on test data using this method."
      ]
    },
    {
      "cell_type": "code",
      "execution_count": null,
      "metadata": {
        "id": "pNlaj638zCGP"
      },
      "outputs": [],
      "source": [
        "from skimage.feature import local_binary_pattern, hog\n",
        "import cv2\n",
        "from sklearn.svm import SVC\n",
        "from os import listdir\n",
        "from google.colab.patches import cv2_imshow\n",
        "from os.path import isfile, join\n",
        "import matplotlib.pyplot as plt\n",
        "import numpy as np\n",
        "import os"
      ]
    },
    {
      "cell_type": "code",
      "execution_count": null,
      "metadata": {
        "id": "pq2h6S4__6Q_"
      },
      "outputs": [],
      "source": [
        "def preprocess(img):\n",
        "  x_hog=[]\n",
        "  for i in range(len(img)):\n",
        "    gray=cv2.cvtColor(img[i], cv2.COLOR_BGR2GRAY)/255\n",
        "    Xp,hog_img=hog(gray, orientations=9, pixels_per_cell=(8, 8),cells_per_block=(2, 2), visualize=True)\n",
        "    x_hog.append(Xp)\n",
        "  return x_hog"
      ]
    },
    {
      "cell_type": "code",
      "execution_count": null,
      "metadata": {
        "colab": {
          "base_uri": "https://localhost:8080/"
        },
        "id": "ZkvsOTsemDVE",
        "outputId": "05914a08-c92b-4868-e227-c708173185c6"
      },
      "outputs": [
        {
          "output_type": "stream",
          "name": "stdout",
          "text": [
            "Extract Histogram of Gradients features for training, validation and testing datasets:\n",
            "\n"
          ]
        }
      ],
      "source": [
        "width=32\n",
        "height=32\n",
        "\n",
        "print(\"Extract Histogram of Gradients features for training, validation and testing datasets:\\n\")\n",
        "\n",
        "Xtrain_d0= preprocess(X_train)\n",
        "Xval_d0 =preprocess(X_val)\n",
        "Xtest_d0 = preprocess(x_test)"
      ]
    },
    {
      "cell_type": "code",
      "execution_count": null,
      "metadata": {
        "colab": {
          "base_uri": "https://localhost:8080/"
        },
        "id": "7P8VMf0fK9L6",
        "outputId": "4371e8da-0b4d-4fa7-bdd6-9d0a76d30b42"
      },
      "outputs": [
        {
          "output_type": "stream",
          "name": "stdout",
          "text": [
            "[6 2 5 ... 8 8 8]\n"
          ]
        }
      ],
      "source": [
        "ytrain=Y_train.reshape(-1)\n",
        "yval=Y_val.reshape(-1)\n",
        "ytest=y_test.reshape(-1)\n",
        "print(ytrain)"
      ]
    },
    {
      "cell_type": "code",
      "execution_count": null,
      "metadata": {
        "colab": {
          "base_uri": "https://localhost:8080/"
        },
        "id": "DbXAEgTuJ4fD",
        "outputId": "baa2e41d-ca9f-4a16-ab06-d26e964d1ab6"
      },
      "outputs": [
        {
          "output_type": "stream",
          "name": "stdout",
          "text": [
            "-------- dataset #0--------\n",
            "\n",
            "--------Support Vector Machine--------\n",
            "\n",
            "Accuracy Train set 79.5725\n",
            "Accuracy Valid set 61.309999999999995\n"
          ]
        }
      ],
      "source": [
        "def SVM(Xtrain,Ytrain,Xval,Yval):\n",
        "  print(\"--------Support Vector Machine--------\\n\")\n",
        "  #Define SVM Classifier\n",
        "  clf = SVC(random_state=0)\n",
        "  #train the classifier\n",
        "  clf.fit(Xtrain,Ytrain)\n",
        "  #Calculate accuracy of the model using validation set\n",
        "  print(\"Accuracy Train set\",clf.score(Xtrain,Ytrain)*100)\n",
        "  #Calculate accuracy of the model using validation set\n",
        "  print(\"Accuracy Valid set\",clf.score(Xval,Yval)*100)\n",
        "  #plot confusion matrix\n",
        "  #get_confusion_matrix(clf,Xval,Yval,\"Validation\")\n",
        "\n",
        "# Compute and check the classifier for dataset #0:\n",
        "print(\"-------- dataset #0--------\\n\")\n",
        "SVM(Xtrain_d0,ytrain,Xval_d0,yval)\n"
      ]
    },
    {
      "cell_type": "code",
      "source": [
        "svm=SVC(random_state=0)\n",
        "svm.fit(Xtrain_d0,ytrain)\n",
        "print(\"Accuracy Test set for SVM: \",svm.score(Xtest_d0,ytest)*100)"
      ],
      "metadata": {
        "id": "zTJ0J5nbhyun",
        "colab": {
          "base_uri": "https://localhost:8080/"
        },
        "outputId": "421eeef5-ca5b-4a2f-cf4c-0f08d3caac4e"
      },
      "execution_count": null,
      "outputs": [
        {
          "output_type": "stream",
          "name": "stdout",
          "text": [
            "Accuracy Test set for SVM:  61.4\n"
          ]
        }
      ]
    },
    {
      "cell_type": "markdown",
      "metadata": {
        "id": "PBMSR8qezDo-"
      },
      "source": [
        "**Q4**"
      ]
    },
    {
      "cell_type": "code",
      "execution_count": 14,
      "metadata": {
        "id": "h_2n2Bbx4UId"
      },
      "outputs": [],
      "source": [
        "import numpy as np\n",
        "from sklearn.metrics import classification_report\n",
        "from sklearn.utils import shuffle\n",
        "\n",
        "import torch\n",
        "import torchvision\n",
        "import torch.nn.functional as F # Contains all the activation functions\n",
        "import torch.nn as nn # The Neural Network\n",
        "import torch.optim as optim # The Optimizer\n",
        "import torchvision.transforms as transforms # The Tranform to be used\n",
        "from torch.utils.data import DataLoader # Dataloader"
      ]
    },
    {
      "cell_type": "code",
      "execution_count": 17,
      "metadata": {
        "id": "ydBpZOGIzFsu"
      },
      "outputs": [],
      "source": [
        "from torchvision import datasets\n",
        "from torchvision.transforms import ToTensor, Normalize\n",
        "\n",
        "# Download and transform the MNIST dataset\n",
        "transform = ToTensor()  # Convert data to PyTorch tensors\n",
        "trainset = datasets.MNIST('./data', train=True, download=True, transform=transform)\n",
        "testset = datasets.MNIST('./data', train=False, download=True, transform=transform)\n",
        "\n",
        "# Define data loaders for training and testing\n",
        "trainloader = DataLoader(trainset, batch_size=32, shuffle=True)\n",
        "testloader = DataLoader(testset, batch_size=32, shuffle=False)\n"
      ]
    },
    {
      "cell_type": "markdown",
      "metadata": {
        "id": "9HMSot0d7-Mr"
      },
      "source": [
        "a. Create a feed forward neural network consisting of only fully connected layers; the network should have at least\n",
        "two hidden layers. You are allowed to experiment with regularization techniques and are expected to reach above\n",
        "55% accuracy on test data"
      ]
    },
    {
      "cell_type": "code",
      "execution_count": 12,
      "metadata": {
        "id": "hJoK6ZQ64XEU"
      },
      "outputs": [],
      "source": [
        "import torch\n",
        "from torch import nn\n",
        "\n",
        "# Set random seed for consistency\n",
        "torch.manual_seed(1234)\n",
        "\n",
        "# Define the model class\n",
        "class MyModel(nn.Module):\n",
        "  def __init__(self):\n",
        "    super(MyModel, self).__init__()\n",
        "    self.layers = nn.Sequential(\n",
        "        nn.Flatten(),  # Flatten the input from (784,) to (784) for dense layers\n",
        "        nn.Linear(784, 250),\n",
        "        nn.ReLU(inplace=True),  # ReLU activation with inplace modification\n",
        "        nn.Linear(250, 100),\n",
        "        nn.ReLU(inplace=True),\n",
        "        nn.Linear(100, 45),\n",
        "        nn.ReLU(inplace=True),\n",
        "        nn.Linear(45, 20),\n",
        "        nn.ReLU(inplace=True),\n",
        "        nn.Linear(20, 10),\n",
        "    )\n",
        "\n",
        "  def forward(self, x):\n",
        "    x = self.layers(x)\n",
        "    return x\n",
        "\n",
        "# Create an instance of the model\n",
        "model = MyModel()\n",
        "\n",
        "# Define the loss function (same as TensorFlow)\n",
        "criterion = nn.CrossEntropyLoss()"
      ]
    },
    {
      "cell_type": "code",
      "execution_count": 8,
      "metadata": {
        "colab": {
          "base_uri": "https://localhost:8080/"
        },
        "id": "BLMV1l6c5IYZ",
        "outputId": "99c39c9c-c971-4ef7-b62e-7950a4da1ce4"
      },
      "outputs": [
        {
          "output_type": "stream",
          "name": "stdout",
          "text": [
            "MyModel(\n",
            "  (layers): Sequential(\n",
            "    (0): Flatten(start_dim=1, end_dim=-1)\n",
            "    (1): Linear(in_features=784, out_features=250, bias=True)\n",
            "    (2): ReLU(inplace=True)\n",
            "    (3): Linear(in_features=250, out_features=100, bias=True)\n",
            "    (4): ReLU(inplace=True)\n",
            "    (5): Linear(in_features=100, out_features=45, bias=True)\n",
            "    (6): ReLU(inplace=True)\n",
            "    (7): Linear(in_features=45, out_features=20, bias=True)\n",
            "    (8): ReLU(inplace=True)\n",
            "    (9): Linear(in_features=20, out_features=10, bias=True)\n",
            "  )\n",
            ")\n"
          ]
        }
      ],
      "source": [
        "print(model)"
      ]
    },
    {
      "cell_type": "code",
      "source": [
        "# Define the model, loss function, and optimizer\n",
        "\n",
        "model = MyModel()\n",
        "criterion = nn.CrossEntropyLoss()\n",
        "optimizer = torch.optim.Adam(model.parameters(), lr=0.001)\n",
        "\n",
        "# Training the model\n",
        "num_epochs = 10\n",
        "train_losses = []\n",
        "val_losses = []\n",
        "train_accs = []\n",
        "val_accs = []\n",
        "\n",
        "for epoch in range(num_epochs):\n",
        "    train_loss = 0.0\n",
        "    val_loss = 0.0\n",
        "    correct_train = 0\n",
        "    correct_val = 0\n",
        "    total_train = 0\n",
        "    total_val = 0\n",
        "\n",
        "    # Training Loop\n",
        "    for images, labels in trainloader:\n",
        "        # Reshape images to flatten them\n",
        "        images = images.view(-1, 28 * 28)\n",
        "\n",
        "        # Reset gradients\n",
        "        optimizer.zero_grad()\n",
        "\n",
        "        # Forward pass: compute predicted outputs by passing inputs to the model\n",
        "        outputs = model(images)\n",
        "\n",
        "        # Calculate the loss\n",
        "        loss = criterion(outputs, labels)\n",
        "\n",
        "        # Backward pass: compute gradient of the loss with respect to model parameters\n",
        "        loss.backward()\n",
        "\n",
        "        # Perform a single optimization step (parameter update)\n",
        "        optimizer.step()\n",
        "\n",
        "        # Update training loss\n",
        "        train_loss += loss.item()\n",
        "\n",
        "        # Convert output probabilities to predicted class\n",
        "        _, predicted = torch.max(outputs.data, 1)\n",
        "\n",
        "        # Total number of labels\n",
        "        total_train += labels.size(0)\n",
        "\n",
        "        # Total correct predictions\n",
        "        correct_train += (predicted == labels).sum().item()\n",
        "\n",
        "\n",
        "    with torch.no_grad():     # to stop calculating gradients\n",
        "        for images, labels in testloader:\n",
        "            images = images.view(-1, 28 * 28) # Reshape images to flatten them\n",
        "            outputs = model(images)# Forward pass: compute predicted outputs by passing inputs to the model\n",
        "            loss = criterion(outputs, labels)# Calculate the loss\n",
        "            val_loss += loss.item()# Update validation loss\n",
        "            _, predicted = torch.max(outputs.data, 1)# Convert output probabilities to predicted class\n",
        "            total_val += labels.size(0) # Total number of labels\n",
        "            correct_val += (predicted == labels).sum().item() # Total correct predictions\n",
        "\n",
        "\n",
        "\n",
        "    # Compute average training loss and accuracy for the epoch\n",
        "    train_losses.append(train_loss / len(trainloader))\n",
        "    train_acc = correct_train / total_train\n",
        "    train_accs.append(train_acc)\n",
        "\n",
        "     # Compute average validation loss and accuracy for the epoch\n",
        "    val_losses.append(val_loss / len(testloader))\n",
        "    val_acc = correct_val / total_val\n",
        "    val_accs.append(val_acc)\n",
        "\n",
        "    # Print training loss and accuracy for the epoch\n",
        "    print(f'Epoch [{epoch + 1}/{num_epochs}], Training Loss: {train_losses[-1]:.4f}, Training Accuracy: {train_acc:.4f}')\n",
        "    print(f'Epoch [{epoch + 1}/{num_epochs}], Validation Loss: {val_losses[-1]:.4f}, Validation Accuracy: {val_acc:.4f}')"
      ],
      "metadata": {
        "colab": {
          "base_uri": "https://localhost:8080/"
        },
        "id": "Hl_w_-07SRuj",
        "outputId": "c1ce09b2-f102-403d-c7a5-163ffd0cbe10"
      },
      "execution_count": 19,
      "outputs": [
        {
          "output_type": "stream",
          "name": "stdout",
          "text": [
            "Epoch [1/10], Training Loss: 0.3436, Training Accuracy: 0.8953\n",
            "Epoch [1/10], Validation Loss: 0.1546, Validation Accuracy: 0.9546\n",
            "Epoch [2/10], Training Loss: 0.1224, Training Accuracy: 0.9640\n",
            "Epoch [2/10], Validation Loss: 0.1475, Validation Accuracy: 0.9574\n",
            "Epoch [3/10], Training Loss: 0.0838, Training Accuracy: 0.9748\n",
            "Epoch [3/10], Validation Loss: 0.0856, Validation Accuracy: 0.9728\n",
            "Epoch [4/10], Training Loss: 0.0625, Training Accuracy: 0.9808\n",
            "Epoch [4/10], Validation Loss: 0.0912, Validation Accuracy: 0.9746\n",
            "Epoch [5/10], Training Loss: 0.0503, Training Accuracy: 0.9845\n",
            "Epoch [5/10], Validation Loss: 0.0794, Validation Accuracy: 0.9783\n",
            "Epoch [6/10], Training Loss: 0.0406, Training Accuracy: 0.9876\n",
            "Epoch [6/10], Validation Loss: 0.1072, Validation Accuracy: 0.9718\n",
            "Epoch [7/10], Training Loss: 0.0339, Training Accuracy: 0.9895\n",
            "Epoch [7/10], Validation Loss: 0.0961, Validation Accuracy: 0.9737\n",
            "Epoch [8/10], Training Loss: 0.0298, Training Accuracy: 0.9905\n",
            "Epoch [8/10], Validation Loss: 0.0695, Validation Accuracy: 0.9806\n",
            "Epoch [9/10], Training Loss: 0.0269, Training Accuracy: 0.9917\n",
            "Epoch [9/10], Validation Loss: 0.0888, Validation Accuracy: 0.9783\n",
            "Epoch [10/10], Training Loss: 0.0231, Training Accuracy: 0.9928\n",
            "Epoch [10/10], Validation Loss: 0.0790, Validation Accuracy: 0.9822\n"
          ]
        }
      ]
    },
    {
      "cell_type": "code",
      "execution_count": 20,
      "metadata": {
        "colab": {
          "base_uri": "https://localhost:8080/",
          "height": 449
        },
        "id": "A5DiSW7yA5UX",
        "outputId": "a25b973d-5abd-454f-ea4d-9ec1d4128241"
      },
      "outputs": [
        {
          "output_type": "display_data",
          "data": {
            "text/plain": [
              "<Figure size 640x480 with 1 Axes>"
            ],
            "image/png": "[encoded data removed]"
          },
          "metadata": {}
        }
      ],
      "source": [
        "plt.plot(train_accs, label='Train Loss')\n",
        "plt.plot(val_accs, label='Validation Loss')\n",
        "plt.xlabel('Epoch')\n",
        "plt.ylabel('Loss')\n",
        "plt.legend()\n",
        "plt.show()"
      ]
    },
    {
      "cell_type": "code",
      "execution_count": 21,
      "metadata": {
        "colab": {
          "base_uri": "https://localhost:8080/",
          "height": 449
        },
        "id": "EUqnwbhPKHNo",
        "outputId": "8c3b64fd-2c11-42f6-bffd-0aa8adb70b19"
      },
      "outputs": [
        {
          "output_type": "display_data",
          "data": {
            "text/plain": [
              "<Figure size 640x480 with 1 Axes>"
            ],
            "image/png": "[encoded data removed]"
          },
          "metadata": {}
        }
      ],
      "source": [
        "plt.plot(train_losses, label='Train Loss')\n",
        "plt.plot(val_losses, label='Validation Loss')\n",
        "plt.xlabel('Epoch')\n",
        "plt.ylabel('Loss')\n",
        "plt.legend()\n",
        "plt.show()"
      ]
    },
    {
      "cell_type": "markdown",
      "metadata": {
        "id": "RvM-DenDLzF3"
      },
      "source": [
        "b. Create a convolutional neural network consisting of at least two convolutional layers. You are allowed to\n",
        "experiment with regularization techniques and are expected to reach above 75% accuracy on test data."
      ]
    },
    {
      "cell_type": "code",
      "execution_count": null,
      "metadata": {
        "colab": {
          "base_uri": "https://localhost:8080/"
        },
        "id": "bgpphE89L6xj",
        "outputId": "380ec75c-7696-47d5-80ac-78be247ef855"
      },
      "outputs": [
        {
          "name": "stdout",
          "output_type": "stream",
          "text": [
            "Downloading data from https://storage.googleapis.com/tensorflow/tf-keras-datasets/mnist.npz\n",
            "11490434/11490434 [==============================] - 2s 0us/step\n",
            "1hot shapes: (train, val) :-  (60000, 10) (10000, 10)\n"
          ]
        }
      ],
      "source": [
        "import numpy as np\n",
        "from tensorflow import keras\n",
        "from sklearn.metrics import confusion_matrix\n",
        "import itertools\n",
        "import matplotlib.pyplot as plt\n",
        "from tensorflow.keras.datasets import mnist\n",
        "from keras.layers import Conv2D,Flatten,Dense,MaxPooling2D,Dropout,BatchNormalization\n",
        "from sklearn.model_selection import train_test_split\n",
        "from sklearn.utils import shuffle\n",
        "\n",
        "#load cifar10 dataset here #_________TODO_________\n",
        "(x_train, y_train), (x_val, y_val) = mnist.load_data()\n",
        "\n",
        "#shuffle dataset here #_________TODO_________\n",
        "x_train, y_train=shuffle(x_train, y_train)\n",
        "\n",
        "#normalize your data #_________TODO_________\n",
        "x_train = x_train.astype(\"float32\") / 255.0\n",
        "x_val = x_val.astype(\"float32\") / 255.0\n",
        "\n",
        "#define number of classes #_________TODO_________\n",
        "num_classes=10\n",
        "\n",
        "#one-hot encode the labels\n",
        "y_train_1hot = keras.utils.to_categorical(y_train, num_classes=10)\n",
        "y_val_1hot   = keras.utils.to_categorical(y_val, 10)\n",
        "\n",
        "print('1hot shapes: (train, val) :- ', y_train_1hot.shape, y_val_1hot.shape)\n",
        "\n"
      ]
    },
    {
      "cell_type": "code",
      "execution_count": null,
      "metadata": {
        "colab": {
          "base_uri": "https://localhost:8080/"
        },
        "id": "zVjC6FVwTUei",
        "outputId": "c2cf9d83-d483-4c0e-d547-f973e3b4e4eb"
      },
      "outputs": [
        {
          "name": "stdout",
          "output_type": "stream",
          "text": [
            "Model: \"sequential_1\"\n",
            "_________________________________________________________________\n",
            " Layer (type)                Output Shape              Param #   \n",
            "=================================================================\n",
            " conv2d_3 (Conv2D)           (None, 26, 26, 32)        320       \n",
            "                                                                 \n",
            " max_pooling2d_3 (MaxPoolin  (None, 13, 13, 32)        0         \n",
            " g2D)                                                            \n",
            "                                                                 \n",
            " conv2d_4 (Conv2D)           (None, 11, 11, 64)        18496     \n",
            "                                                                 \n",
            " max_pooling2d_4 (MaxPoolin  (None, 5, 5, 64)          0         \n",
            " g2D)                                                            \n",
            "                                                                 \n",
            " conv2d_5 (Conv2D)           (None, 3, 3, 128)         73856     \n",
            "                                                                 \n",
            " max_pooling2d_5 (MaxPoolin  (None, 1, 1, 128)         0         \n",
            " g2D)                                                            \n",
            "                                                                 \n",
            " flatten_1 (Flatten)         (None, 128)               0         \n",
            "                                                                 \n",
            " dense_2 (Dense)             (None, 512)               66048     \n",
            "                                                                 \n",
            " dense_3 (Dense)             (None, 10)                5130      \n",
            "                                                                 \n",
            "=================================================================\n",
            "Total params: 163850 (640.04 KB)\n",
            "Trainable params: 163850 (640.04 KB)\n",
            "Non-trainable params: 0 (0.00 Byte)\n",
            "_________________________________________________________________\n",
            "None\n"
          ]
        }
      ],
      "source": [
        "model = keras.Sequential([\n",
        "    #add conv2D layer #_______TODO_______\n",
        "    Conv2D(filters=32, kernel_size=(3, 3),activation='relu', input_shape=(28,28,1)),\n",
        "\n",
        "    #add maxpooling2D layer #_______TODO_______\n",
        "    MaxPooling2D(pool_size=(2, 2)),\n",
        "\n",
        "    #add conv2D layer #_______TODO_______\n",
        "    Conv2D(filters=64, kernel_size=(3, 3),activation='relu'),\n",
        "    #add maxpooling2D layer #_______TODO_______\n",
        "    MaxPooling2D(pool_size=(2, 2)),\n",
        "\n",
        "    #add conv2D layer #_______TODO_______\n",
        "    Conv2D(filters=128, kernel_size=(3, 3),activation='relu'),\n",
        "    #add maxpooling2D layer #_______TODO_______\n",
        "    MaxPooling2D(pool_size=(2, 2)),\n",
        "\n",
        "    #add flatten layer #_______TODO_______\n",
        "    Flatten(),\n",
        "    #add dense layer   #_______TODO_______\n",
        "    Dense(512, activation=\"relu\"),\n",
        "    #add dense layer   #_______TODO_______\n",
        "    Dense(10, activation=\"softmax\")\n",
        "])\n",
        "\n",
        "#compile model-> compile means to configure training in Keras API\n",
        "optimizer = 'SGD'# define SGD as your gradient descent algorithm\n",
        "model.compile(optimizer = optimizer,\n",
        "              loss = 'categorical_crossentropy',\n",
        "              metrics = ['accuracy'])\n",
        "\n",
        "print(model.summary())"
      ]
    },
    {
      "cell_type": "code",
      "execution_count": null,
      "metadata": {
        "colab": {
          "base_uri": "https://localhost:8080/"
        },
        "id": "xgrBagBhTx2l",
        "outputId": "40dfab0c-f36b-47d3-d323-9b9a8b31599c"
      },
      "outputs": [
        {
          "name": "stdout",
          "output_type": "stream",
          "text": [
            "Epoch 1/50\n",
            "1875/1875 [==============================] - 13s 5ms/step - loss: 0.9035 - accuracy: 0.7320 - val_loss: 0.2351 - val_accuracy: 0.9234\n",
            "Epoch 2/50\n",
            "1875/1875 [==============================] - 9s 5ms/step - loss: 0.1804 - accuracy: 0.9442 - val_loss: 0.1259 - val_accuracy: 0.9612\n",
            "Epoch 3/50\n",
            "1875/1875 [==============================] - 7s 4ms/step - loss: 0.1298 - accuracy: 0.9597 - val_loss: 0.0940 - val_accuracy: 0.9713\n",
            "Epoch 4/50\n",
            "1875/1875 [==============================] - 8s 4ms/step - loss: 0.1053 - accuracy: 0.9677 - val_loss: 0.0801 - val_accuracy: 0.9759\n",
            "Epoch 5/50\n",
            "1875/1875 [==============================] - 9s 5ms/step - loss: 0.0885 - accuracy: 0.9727 - val_loss: 0.0784 - val_accuracy: 0.9761\n",
            "Epoch 6/50\n",
            "1875/1875 [==============================] - 7s 4ms/step - loss: 0.0793 - accuracy: 0.9753 - val_loss: 0.0768 - val_accuracy: 0.9778\n",
            "Epoch 7/50\n",
            "1875/1875 [==============================] - 9s 5ms/step - loss: 0.0695 - accuracy: 0.9785 - val_loss: 0.0704 - val_accuracy: 0.9779\n",
            "Epoch 8/50\n",
            "1875/1875 [==============================] - 8s 4ms/step - loss: 0.0627 - accuracy: 0.9808 - val_loss: 0.0654 - val_accuracy: 0.9803\n",
            "Epoch 9/50\n",
            "1875/1875 [==============================] - 8s 4ms/step - loss: 0.0572 - accuracy: 0.9826 - val_loss: 0.0582 - val_accuracy: 0.9823\n",
            "Epoch 10/50\n",
            "1875/1875 [==============================] - 8s 4ms/step - loss: 0.0527 - accuracy: 0.9839 - val_loss: 0.0602 - val_accuracy: 0.9824\n",
            "Epoch 11/50\n",
            "1875/1875 [==============================] - 8s 4ms/step - loss: 0.0491 - accuracy: 0.9851 - val_loss: 0.0580 - val_accuracy: 0.9819\n",
            "Epoch 12/50\n",
            "1875/1875 [==============================] - 8s 4ms/step - loss: 0.0452 - accuracy: 0.9858 - val_loss: 0.0793 - val_accuracy: 0.9755\n",
            "Epoch 13/50\n",
            "1875/1875 [==============================] - 8s 4ms/step - loss: 0.0418 - accuracy: 0.9875 - val_loss: 0.0539 - val_accuracy: 0.9838\n",
            "Epoch 14/50\n",
            "1875/1875 [==============================] - 8s 4ms/step - loss: 0.0396 - accuracy: 0.9877 - val_loss: 0.0648 - val_accuracy: 0.9810\n",
            "Epoch 15/50\n",
            "1875/1875 [==============================] - 8s 4ms/step - loss: 0.0372 - accuracy: 0.9883 - val_loss: 0.0536 - val_accuracy: 0.9843\n",
            "Epoch 16/50\n",
            "1875/1875 [==============================] - 9s 5ms/step - loss: 0.0351 - accuracy: 0.9894 - val_loss: 0.0538 - val_accuracy: 0.9837\n",
            "Epoch 17/50\n",
            "1875/1875 [==============================] - 9s 5ms/step - loss: 0.0319 - accuracy: 0.9901 - val_loss: 0.0872 - val_accuracy: 0.9747\n",
            "Epoch 18/50\n",
            "1875/1875 [==============================] - 8s 4ms/step - loss: 0.0308 - accuracy: 0.9905 - val_loss: 0.0526 - val_accuracy: 0.9838\n",
            "Epoch 19/50\n",
            "1875/1875 [==============================] - 7s 4ms/step - loss: 0.0282 - accuracy: 0.9915 - val_loss: 0.0533 - val_accuracy: 0.9840\n",
            "Epoch 20/50\n",
            "1875/1875 [==============================] - 9s 5ms/step - loss: 0.0268 - accuracy: 0.9921 - val_loss: 0.0727 - val_accuracy: 0.9803\n",
            "Epoch 21/50\n",
            "1875/1875 [==============================] - 8s 4ms/step - loss: 0.0258 - accuracy: 0.9919 - val_loss: 0.0515 - val_accuracy: 0.9847\n",
            "Epoch 22/50\n",
            "1875/1875 [==============================] - 8s 4ms/step - loss: 0.0235 - accuracy: 0.9929 - val_loss: 0.0647 - val_accuracy: 0.9823\n",
            "Epoch 23/50\n",
            "1875/1875 [==============================] - 9s 5ms/step - loss: 0.0226 - accuracy: 0.9932 - val_loss: 0.0531 - val_accuracy: 0.9847\n",
            "Epoch 24/50\n",
            "1875/1875 [==============================] - 8s 4ms/step - loss: 0.0211 - accuracy: 0.9935 - val_loss: 0.0527 - val_accuracy: 0.9850\n",
            "Epoch 25/50\n",
            "1875/1875 [==============================] - 8s 4ms/step - loss: 0.0204 - accuracy: 0.9938 - val_loss: 0.0521 - val_accuracy: 0.9852\n",
            "Epoch 26/50\n",
            "1875/1875 [==============================] - 8s 4ms/step - loss: 0.0187 - accuracy: 0.9944 - val_loss: 0.0522 - val_accuracy: 0.9863\n",
            "Epoch 27/50\n",
            "1875/1875 [==============================] - 8s 4ms/step - loss: 0.0170 - accuracy: 0.9950 - val_loss: 0.0565 - val_accuracy: 0.9845\n",
            "Epoch 28/50\n",
            "1875/1875 [==============================] - 8s 4ms/step - loss: 0.0159 - accuracy: 0.9952 - val_loss: 0.0522 - val_accuracy: 0.9855\n",
            "Epoch 29/50\n",
            "1875/1875 [==============================] - 9s 5ms/step - loss: 0.0156 - accuracy: 0.9952 - val_loss: 0.0549 - val_accuracy: 0.9854\n",
            "Epoch 30/50\n",
            "1875/1875 [==============================] - 9s 5ms/step - loss: 0.0149 - accuracy: 0.9954 - val_loss: 0.0678 - val_accuracy: 0.9837\n",
            "Epoch 31/50\n",
            "1875/1875 [==============================] - 7s 4ms/step - loss: 0.0136 - accuracy: 0.9959 - val_loss: 0.0605 - val_accuracy: 0.9853\n",
            "Epoch 32/50\n",
            "1875/1875 [==============================] - 9s 5ms/step - loss: 0.0130 - accuracy: 0.9963 - val_loss: 0.0660 - val_accuracy: 0.9823\n",
            "Epoch 33/50\n",
            "1875/1875 [==============================] - 8s 4ms/step - loss: 0.0119 - accuracy: 0.9966 - val_loss: 0.0674 - val_accuracy: 0.9836\n",
            "Epoch 34/50\n",
            "1875/1875 [==============================] - 7s 4ms/step - loss: 0.0119 - accuracy: 0.9963 - val_loss: 0.0574 - val_accuracy: 0.9860\n",
            "Epoch 35/50\n",
            "1875/1875 [==============================] - 8s 4ms/step - loss: 0.0106 - accuracy: 0.9970 - val_loss: 0.0624 - val_accuracy: 0.9832\n",
            "Epoch 36/50\n",
            "1875/1875 [==============================] - 8s 4ms/step - loss: 0.0098 - accuracy: 0.9974 - val_loss: 0.0613 - val_accuracy: 0.9839\n",
            "Epoch 37/50\n",
            "1875/1875 [==============================] - 7s 4ms/step - loss: 0.0095 - accuracy: 0.9972 - val_loss: 0.0586 - val_accuracy: 0.9869\n",
            "Epoch 38/50\n",
            "1875/1875 [==============================] - 8s 4ms/step - loss: 0.0087 - accuracy: 0.9976 - val_loss: 0.0573 - val_accuracy: 0.9861\n",
            "Epoch 39/50\n",
            "1875/1875 [==============================] - 8s 4ms/step - loss: 0.0072 - accuracy: 0.9981 - val_loss: 0.0582 - val_accuracy: 0.9861\n",
            "Epoch 40/50\n",
            "1875/1875 [==============================] - 8s 4ms/step - loss: 0.0072 - accuracy: 0.9981 - val_loss: 0.0601 - val_accuracy: 0.9859\n",
            "Epoch 41/50\n",
            "1875/1875 [==============================] - 9s 5ms/step - loss: 0.0064 - accuracy: 0.9984 - val_loss: 0.0600 - val_accuracy: 0.9866\n",
            "Epoch 42/50\n",
            "1875/1875 [==============================] - 9s 5ms/step - loss: 0.0063 - accuracy: 0.9984 - val_loss: 0.0593 - val_accuracy: 0.9861\n",
            "Epoch 43/50\n",
            "1875/1875 [==============================] - 7s 4ms/step - loss: 0.0060 - accuracy: 0.9984 - val_loss: 0.0605 - val_accuracy: 0.9865\n",
            "Epoch 44/50\n",
            "1875/1875 [==============================] - 8s 4ms/step - loss: 0.0053 - accuracy: 0.9985 - val_loss: 0.0597 - val_accuracy: 0.9870\n",
            "Epoch 45/50\n",
            "1875/1875 [==============================] - 8s 4ms/step - loss: 0.0054 - accuracy: 0.9987 - val_loss: 0.0602 - val_accuracy: 0.9870\n",
            "Epoch 46/50\n",
            "1875/1875 [==============================] - 7s 4ms/step - loss: 0.0054 - accuracy: 0.9985 - val_loss: 0.0599 - val_accuracy: 0.9868\n",
            "Epoch 47/50\n",
            "1875/1875 [==============================] - 8s 4ms/step - loss: 0.0040 - accuracy: 0.9992 - val_loss: 0.0613 - val_accuracy: 0.9867\n",
            "Epoch 48/50\n",
            "1875/1875 [==============================] - 8s 4ms/step - loss: 0.0043 - accuracy: 0.9990 - val_loss: 0.0629 - val_accuracy: 0.9872\n",
            "Epoch 49/50\n",
            "1875/1875 [==============================] - 7s 4ms/step - loss: 0.0029 - accuracy: 0.9994 - val_loss: 0.0645 - val_accuracy: 0.9872\n",
            "Epoch 50/50\n",
            "1875/1875 [==============================] - 8s 4ms/step - loss: 0.0029 - accuracy: 0.9994 - val_loss: 0.0616 - val_accuracy: 0.9879\n"
          ]
        }
      ],
      "source": [
        "#train the model #_______TODO_______\n",
        "history = model.fit(\n",
        "    x_train,y_train_1hot,\n",
        "    epochs=50,\n",
        "    validation_data=(x_val, y_val_1hot)\n",
        ")"
      ]
    },
    {
      "cell_type": "code",
      "execution_count": null,
      "metadata": {
        "colab": {
          "base_uri": "https://localhost:8080/",
          "height": 449
        },
        "id": "Wm9B-B4vwEG0",
        "outputId": "0c8fa4bc-56ca-4f81-8227-1cbb0485799e"
      },
      "outputs": [
        {
          "data": {
            "image/png": "[encoded data removed]",
            "text/plain": [
              "<Figure size 640x480 with 1 Axes>"
            ]
          },
          "metadata": {},
          "output_type": "display_data"
        }
      ],
      "source": [
        "plt.plot(history.history['loss'], label='Train Loss')\n",
        "plt.plot(history.history['val_loss'], label='Validation Loss')\n",
        "plt.xlabel('Epoch')\n",
        "plt.ylabel('Loss')\n",
        "plt.legend()\n",
        "plt.show()"
      ]
    },
    {
      "cell_type": "code",
      "execution_count": null,
      "metadata": {
        "colab": {
          "base_uri": "https://localhost:8080/",
          "height": 449
        },
        "id": "VI_-xPZLwFkV",
        "outputId": "32ae4944-93cc-46af-ac68-10c75c5f1e02"
      },
      "outputs": [
        {
          "data": {
            "image/png": "[encoded data removed]",
            "text/plain": [
              "<Figure size 640x480 with 1 Axes>"
            ]
          },
          "metadata": {},
          "output_type": "display_data"
        }
      ],
      "source": [
        "#plot accuracy using plt.plot() and plt.legend() #_______TODO_______\n",
        "plt.plot(history.history['accuracy'], label='Train accuracy')\n",
        "plt.plot(history.history['val_accuracy'], label='Validation accuracy')\n",
        "plt.xlabel('Epoch')\n",
        "plt.ylabel('Accuracy')\n",
        "plt.legend()\n",
        "plt.show()"
      ]
    },
    {
      "cell_type": "markdown",
      "source": [
        "c. Use the pre-trained VGG-16 network (trained on ImageNet) as a feature extractor, and connect it to a feed\n",
        "forward network consisting of fully connected layers. You should try to fine tune the network and are expected\n",
        "to reach above 65% accuracy on test data"
      ],
      "metadata": {
        "id": "k3XngP2_ir-o"
      }
    },
    {
      "cell_type": "code",
      "source": [
        "import tensorflow as tf\n",
        "from tensorflow.keras.applications import VGG16\n",
        "from tensorflow.keras.preprocessing import image\n",
        "from tensorflow.keras.applications.vgg16 import preprocess_input\n",
        "from tensorflow.keras.applications import VGG16\n",
        "from tensorflow.keras.models import Model\n",
        "from tensorflow.keras.layers import Dense, Flatten"
      ],
      "metadata": {
        "id": "kFvIRY25jEE1"
      },
      "execution_count": null,
      "outputs": []
    },
    {
      "cell_type": "code",
      "source": [
        "# Create the VGG16 model, specifying include_top=False to exclude the classification layers\n",
        "model = VGG16(weights='imagenet', include_top=False, input_shape=(224, 224, 3))\n",
        "\n",
        "# Print a summary of the model layers to understand its architecture\n",
        "model.summary()\n"
      ],
      "metadata": {
        "colab": {
          "base_uri": "https://localhost:8080/"
        },
        "id": "r5x477HGldDI",
        "outputId": "1d307940-3d08-4017-e552-56e90d4979a1"
      },
      "execution_count": null,
      "outputs": [
        {
          "output_type": "stream",
          "name": "stdout",
          "text": [
            "Model: \"vgg16\"\n",
            "_________________________________________________________________\n",
            " Layer (type)                Output Shape              Param #   \n",
            "=================================================================\n",
            " input_1 (InputLayer)        [(None, 224, 224, 3)]     0         \n",
            "                                                                 \n",
            " block1_conv1 (Conv2D)       (None, 224, 224, 64)      1792      \n",
            "                                                                 \n",
            " block1_conv2 (Conv2D)       (None, 224, 224, 64)      36928     \n",
            "                                                                 \n",
            " block1_pool (MaxPooling2D)  (None, 112, 112, 64)      0         \n",
            "                                                                 \n",
            " block2_conv1 (Conv2D)       (None, 112, 112, 128)     73856     \n",
            "                                                                 \n",
            " block2_conv2 (Conv2D)       (None, 112, 112, 128)     147584    \n",
            "                                                                 \n",
            " block2_pool (MaxPooling2D)  (None, 56, 56, 128)       0         \n",
            "                                                                 \n",
            " block3_conv1 (Conv2D)       (None, 56, 56, 256)       295168    \n",
            "                                                                 \n",
            " block3_conv2 (Conv2D)       (None, 56, 56, 256)       590080    \n",
            "                                                                 \n",
            " block3_conv3 (Conv2D)       (None, 56, 56, 256)       590080    \n",
            "                                                                 \n",
            " block3_pool (MaxPooling2D)  (None, 28, 28, 256)       0         \n",
            "                                                                 \n",
            " block4_conv1 (Conv2D)       (None, 28, 28, 512)       1180160   \n",
            "                                                                 \n",
            " block4_conv2 (Conv2D)       (None, 28, 28, 512)       2359808   \n",
            "                                                                 \n",
            " block4_conv3 (Conv2D)       (None, 28, 28, 512)       2359808   \n",
            "                                                                 \n",
            " block4_pool (MaxPooling2D)  (None, 14, 14, 512)       0         \n",
            "                                                                 \n",
            " block5_conv1 (Conv2D)       (None, 14, 14, 512)       2359808   \n",
            "                                                                 \n",
            " block5_conv2 (Conv2D)       (None, 14, 14, 512)       2359808   \n",
            "                                                                 \n",
            " block5_conv3 (Conv2D)       (None, 14, 14, 512)       2359808   \n",
            "                                                                 \n",
            " block5_pool (MaxPooling2D)  (None, 7, 7, 512)         0         \n",
            "                                                                 \n",
            "=================================================================\n",
            "Total params: 14714688 (56.13 MB)\n",
            "Trainable params: 14714688 (56.13 MB)\n",
            "Non-trainable params: 0 (0.00 Byte)\n",
            "_________________________________________________________________\n"
          ]
        }
      ]
    },
    {
      "cell_type": "code",
      "source": [
        "def preprocess_mnist_image(mnist_image):\n",
        "  # Reshape to add channel dimension\n",
        "  mnist_image = np.expand_dims(mnist_image, axis=-1)\n",
        "\n",
        "  # Resize to match VGG16 input size\n",
        "  img = image.array_to_img(mnist_image, scale=False)  # Avoid normalization\n",
        "  img = img.resize((224, 224), interpolation=image.BICUBIC)  # Experiment with interpolation\n",
        "  img = image.img_to_array(img)\n",
        "\n",
        "  # Optional: Replicate channel (consider alternative preprocessing for grayscale)\n",
        "  img = np.repeat(img, 3, axis=-1)\n",
        "\n",
        "  return preprocess_input(img)[np.newaxis, ...]  # Add batch dimension and preprocess"
      ],
      "metadata": {
        "id": "KG14I8ZZpTDc"
      },
      "execution_count": null,
      "outputs": []
    },
    {
      "cell_type": "code",
      "source": [
        "from tensorflow.keras.datasets import mnist\n",
        "from tensorflow.keras.applications.vgg16 import preprocess_input\n",
        "\n",
        "(x_train, y_train), (x_test, y_test) = mnist.load_data()\n",
        "\n",
        "# Reshape to add a channel dimension (optional, padding might be preferred)\n",
        "# x_train = x_train.reshape(x_train.shape[0], 28, 28, 1)\n",
        "# x_test = x_test.reshape(x_test.shape[0], 28, 28, 1)\n",
        "\n",
        "# Alternatively, pad with zeros (might distort aspect ratio)\n",
        "x_train = np.pad(x_train, ((0, 0), (48, 48), (48, 48)), mode='constant')\n",
        "x_test = np.pad(x_test, ((0, 0), (48, 48), (48, 48)), mode='constant')\n",
        "\n",
        "# Normalize (consider alternative scaling for MNIST)\n",
        "x_train = x_train.astype('float32') / 255  # Simple scaling to 0-1\n",
        "x_test = x_test.astype('float32') / 255\n",
        "\n",
        "# VGG-16 expects RGB, comment out if using padding instead of reshaping\n",
        "# x_train = np.repeat(x_train, 3, axis=3)  # Duplicate channel for RGB\n",
        "# x_test = np.repeat(x_test, 3, axis=3)"
      ],
      "metadata": {
        "id": "uRQa9WTXrjKO"
      },
      "execution_count": null,
      "outputs": []
    },
    {
      "cell_type": "code",
      "source": [
        "for layer in model.layers:\n",
        "    layer.trainable = False"
      ],
      "metadata": {
        "id": "_2oJGtUJxB_z"
      },
      "execution_count": null,
      "outputs": []
    },
    {
      "cell_type": "code",
      "source": [
        "# Create a new model using only the feature extraction part of VGG-16\n",
        "feature_extractor = Model(inputs=model.input, outputs=model.output)"
      ],
      "metadata": {
        "id": "sWjxEwgMxRw-"
      },
      "execution_count": null,
      "outputs": []
    },
    {
      "cell_type": "code",
      "source": [
        "x = feature_extractor.output  # Input to the FFNN is the output from the feature extractor\n",
        "\n",
        "# Add a Flatten layer to convert the feature maps into a 1D vector\n",
        "x = Flatten()(x)\n",
        "num_classes=10\n",
        "# Add Dense layers for classification (adjust the number of neurons and activation functions as needed)\n",
        "x = Dense(units=1024, activation='relu')(x)  # Example dense layer\n",
        "x = Dense(units=512, activation='relu')(x)  # Example dense layer\n",
        "x = Dense(units=256, activation='relu')(x)  # Example dense layer\n",
        "x = Dense(units=128, activation='relu')(x)  # Example dense layer\n",
        "x = Dense(units=64, activation='relu')(x)  # Example dense layer\n",
        "x = Dense(units=num_classes, activation='softmax')(x)  # Output layer with softmax for multi-class classification\n",
        "\n",
        "# Replace 'num_classes' with the number of classes in your classification problem\n",
        "# Adjust the number of Dense layers, units, and activation functions based on your task complexity\n",
        "\n",
        "# Create the final model by combining the feature extractor and FFNN\n",
        "model2 = Model(inputs=feature_extractor.input, outputs=x)"
      ],
      "metadata": {
        "id": "fagpT4mkyiwA"
      },
      "execution_count": null,
      "outputs": []
    },
    {
      "cell_type": "code",
      "source": [
        "model2.compile(loss='categorical_crossentropy', optimizer='adam', metrics=['accuracy'])\n",
        "model2.fit(x_train, y_train, epochs=40, validation_data=(x_test, y_test))"
      ],
      "metadata": {
        "id": "6h9qyhlazIcK"
      },
      "execution_count": null,
      "outputs": []
    }
  ],
  "metadata": {
    "accelerator": "GPU",
    "colab": {
      "gpuType": "T4",
      "provenance": [],
      "authorship_tag": "ABX9TyNYVyVbhzRYS7RL3H8Ceru/",
      "include_colab_link": true
    },
    "kernelspec": {
      "display_name": "Python 3",
      "name": "python3"
    },
    "language_info": {
      "name": "python"
    }
  },
  "nbformat": 4,
  "nbformat_minor": 0
}